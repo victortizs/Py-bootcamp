{
  "nbformat": 4,
  "nbformat_minor": 0,
  "metadata": {
    "colab": {
      "name": "Untitled3.ipynb",
      "provenance": [],
      "collapsed_sections": [],
      "authorship_tag": "ABX9TyP6C1ZEANarGHZHzlQxNsiH",
      "include_colab_link": true
    },
    "kernelspec": {
      "name": "python3",
      "display_name": "Python 3"
    },
    "language_info": {
      "name": "python"
    }
  },
  "cells": [
    {
      "cell_type": "markdown",
      "metadata": {
        "id": "view-in-github",
        "colab_type": "text"
      },
      "source": [
        "<a href=\"https://colab.research.google.com/github/victortizs/Py-bootcamp/blob/main/Hello%20name.ipynb\" target=\"_parent\"><img src=\"https://colab.research.google.com/assets/colab-badge.svg\" alt=\"Open In Colab\"/></a>"
      ]
    },
    {
      "cell_type": "code",
      "metadata": {
        "colab": {
          "base_uri": "https://localhost:8080/"
        },
        "id": "fIjDuY8W66Ww",
        "outputId": "7807d70d-aeeb-4226-e3a6-0f94797d08c2"
      },
      "source": [
        "# print(\"Hello World\")\n",
        "\n",
        "print(\"What's your name?\")\n",
        "name = input()\n",
        "print(\"Hello, \" + name)"
      ],
      "execution_count": 1,
      "outputs": [
        {
          "output_type": "stream",
          "text": [
            "What's your name?\n",
            "victor\n",
            "Hello, victor\n"
          ],
          "name": "stdout"
        }
      ]
    }
  ]
}