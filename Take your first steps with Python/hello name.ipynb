{
  "nbformat": 4,
  "nbformat_minor": 0,
  "metadata": {
    "colab": {
      "name": "Untitled3.ipynb",
      "provenance": [],
      "collapsed_sections": [],
      "authorship_tag": "ABX9TyPD4VX6NbwSKGg2Wh0/qKOe",
      "include_colab_link": true
    },
    "kernelspec": {
      "name": "python3",
      "display_name": "Python 3"
    },
    "language_info": {
      "name": "python"
    }
  },
  "cells": [
    {
      "cell_type": "markdown",
      "metadata": {
        "id": "view-in-github",
        "colab_type": "text"
      },
      "source": [
        "<a href=\"https://colab.research.google.com/github/victortizs/Py-bootcamp/blob/main/Hello%20name.ipynb\" target=\"_parent\"><img src=\"https://colab.research.google.com/assets/colab-badge.svg\" alt=\"Open In Colab\"/></a>"
      ]
    },
    {
      "cell_type": "code",
      "metadata": {
        "colab": {
          "base_uri": "https://localhost:8080/"
        },
        "id": "fIjDuY8W66Ww",
        "outputId": "80f856cc-da25-4259-e407-739130a4f4bd"
      },
      "source": [
        "# print(\"Hello World\")\n",
        "\n",
        "print(\"What's your name?\")\n",
        "name = input()\n",
        "print(\"Hello, \" + name)\n",
        "# print(f\"Hello, {name}\")"
      ],
      "execution_count": 2,
      "outputs": [
        {
          "output_type": "stream",
          "text": [
            "What's your name?\n",
            "Victor\n",
            "Hello, Victor\n"
          ],
          "name": "stdout"
        }
      ]
    }
  ]
}
